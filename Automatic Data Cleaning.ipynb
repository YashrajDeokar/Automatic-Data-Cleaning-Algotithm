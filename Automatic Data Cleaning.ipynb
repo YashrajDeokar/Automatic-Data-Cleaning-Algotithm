{
 "cells": [
  {
   "cell_type": "code",
   "execution_count": 1,
   "id": "cae50eac",
   "metadata": {},
   "outputs": [],
   "source": [
    "import pandas as pd\n",
    "import numpy as np\n",
    "import os\n",
    "from scipy import stats"
   ]
  },
  {
   "cell_type": "code",
   "execution_count": 2,
   "id": "2f37808e",
   "metadata": {},
   "outputs": [],
   "source": [
    "def dataCleaning(path,ColumnName):\n",
    "    if os.path.exists(path):\n",
    "        \n",
    "        df=pd.read_csv(path)\n",
    "        if ColumnName in df.columns:\n",
    "            if df[ColumnName].dtype == 'object':\n",
    "                value_type = df[ColumnName].unique()\n",
    "                value_type_size = df[ColumnName].unique()\n",
    "                mapping = {value: index for index, value in enumerate(value_type)}\n",
    "                df[ColumnName]=df[ColumnName].map(mapping)\n",
    "                df.to_csv(path)\n",
    "            df.drop_duplicates(inplace =True)\n",
    "            df.to_csv(path,index=False)\n",
    "            z_score = stats.zscore(df[ColumnName])\n",
    "            column_quartiles = df[ColumnName].quantile([0.25, 0.5, 0.75])\n",
    "            column_data=df[ColumnName]\n",
    "            Q1=column_quartiles.loc[0.25]\n",
    "            Q2=column_quartiles.loc[0.50]\n",
    "            Q3=column_quartiles.loc[0.75]\n",
    "            IQR=Q3-Q1\n",
    "            lower_bound = Q1-1.5*IQR\n",
    "            upper_bound = Q3+1.5*IQR\n",
    "            outliers=column_data[(column_data<lower_bound)|(column_data>upper_bound)]\n",
    "            df.drop(outliers.index)\n",
    "            isnullcount=df.isnull().any().sum()\n",
    "            if isnullcount>10:\n",
    "                for i in range(df.shape(1)):\n",
    "                    isnullcount=df[i].isnull().sum()\n",
    "                    if df[i].dtypes==\"object\":\n",
    "                        df[i].fillna(\"Unknown\",inplace=True)\n",
    "                    else:\n",
    "                        df[i].fillna(df[i].mean(),inplace =True)\n",
    "            else:\n",
    "                df.dropna()\n",
    "        else:\n",
    "            print(\"Insert Proper Column Name\")\n",
    "        \n",
    "    else:\n",
    "        print(\"Please provide the proper input\")\n",
    "    "
   ]
  },
  {
   "cell_type": "code",
   "execution_count": 3,
   "id": "3cb936e0",
   "metadata": {},
   "outputs": [
    {
     "name": "stdout",
     "output_type": "stream",
     "text": [
      "Enter the path of the dataset: D:\\Phishing_Email.csv\n",
      "Enter which column is dependent on other columns and can be considered as the expected ouput of the dataset:  Email Type\n"
     ]
    },
    {
     "data": {
      "text/plain": [
       "Index(['Unnamed: 0.5', 'Unnamed: 0.4', 'Unnamed: 0.3', 'Unnamed: 0.2',\n",
       "       'Unnamed: 0.1', 'Unnamed: 0', 'Email Text', 'Email Type'],\n",
       "      dtype='object')"
      ]
     },
     "execution_count": 3,
     "metadata": {},
     "output_type": "execute_result"
    }
   ],
   "source": [
    "datasetLocation=input(\"Enter the path of the dataset: \")\n",
    "columnName=input(\"Enter which column is dependent on other columns and can be considered as the expected ouput of the dataset:  \")\n",
    "dataCleaning(datasetLocation,columnName)\n",
    "newdf = pd.read_csv(datasetLocation)\n",
    "newdf.columns"
   ]
  },
  {
   "cell_type": "code",
   "execution_count": null,
   "id": "a4849fa2",
   "metadata": {},
   "outputs": [],
   "source": []
  }
 ],
 "metadata": {
  "kernelspec": {
   "display_name": "Python 3 (ipykernel)",
   "language": "python",
   "name": "python3"
  },
  "language_info": {
   "codemirror_mode": {
    "name": "ipython",
    "version": 3
   },
   "file_extension": ".py",
   "mimetype": "text/x-python",
   "name": "python",
   "nbconvert_exporter": "python",
   "pygments_lexer": "ipython3",
   "version": "3.10.9"
  }
 },
 "nbformat": 4,
 "nbformat_minor": 5
}
